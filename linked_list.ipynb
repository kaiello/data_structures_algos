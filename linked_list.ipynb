{
 "cells": [
  {
   "cell_type": "code",
   "execution_count": 12,
   "metadata": {},
   "outputs": [],
   "source": [
    "class Node:\n",
    "    def __init__(self, value):\n",
    "        self.value = value\n",
    "        self.next = None\n",
    "\n",
    "class LinkedList:\n",
    "    def __init__(self, value):\n",
    "        new_node = Node(value)\n",
    "        self.head = new_node\n",
    "        self.tail = new_node\n",
    "        self.length = 1\n",
    "\n",
    "    # Print list function. \n",
    "    def print_list(self):\n",
    "        temp = self.head\n",
    "        while temp is not None:\n",
    "            print(temp.value)\n",
    "            temp = temp.next\n",
    "\n",
    "    def append(self, value):\n",
    "        new_node = Node(value)\n",
    "        if self.head is None:\n",
    "            self.head = new_node\n",
    "            self.tail = new_node\n",
    "        else:\n",
    "            self.tail.next = new_node\n",
    "            self.tail = new_node\n",
    "        self.length += 1\n",
    "        return True\n",
    "\n",
    "    # def remove(self, value):\n",
    "    #     if self.head is None:\n",
    "    #         return None\n",
    "    #     elif self.head.value == value:\n",
    "    #         self.head = self.head.next\n",
    "    #         self.length -= 1\n",
    "    #         return True\n",
    "    #     else:\n",
    "    #         temp = self.head\n",
    "    #         while temp.next is not None:\n",
    "    #             if temp.next.value == value:\n",
    "    #                 temp.next = temp.next.next\n",
    "    #                 if temp.next is None:\n",
    "    #                     self.tail = temp\n",
    "    #                 self.length -= 1\n",
    "    #                 return True\n",
    "    #             temp = temp.next\n",
    "    #     return False\n",
    "\n",
    "    def pop(self, value):\n",
    "        if self.head is None and self.tail is None:\n",
    "            return None\n",
    "        elif self.head == self.tail:\n",
    "            pop_value = value\n",
    "            self.remove(value)\n",
    "            return pop_value\n",
    "        else:\n",
    "            temp = self.head\n",
    "            while temp.next != self.tail:\n",
    "                temp = temp.next\n",
    "            temp.next = None\n",
    "            self.tail = temp\n",
    "            self.length -= 1\n",
    "            return temp\n"
   ]
  },
  {
   "cell_type": "code",
   "execution_count": 13,
   "metadata": {},
   "outputs": [
    {
     "name": "stdout",
     "output_type": "stream",
     "text": [
      "1\n"
     ]
    },
    {
     "ename": "AttributeError",
     "evalue": "'LinkedList' object has no attribute 'remove'",
     "output_type": "error",
     "traceback": [
      "\u001b[1;31m---------------------------------------------------------------------------\u001b[0m",
      "\u001b[1;31mAttributeError\u001b[0m                            Traceback (most recent call last)",
      "\u001b[1;32md:\\data_structures_algos\\data_structures_algos\\linked_list.ipynb Cell 2\u001b[0m line \u001b[0;36m1\n\u001b[0;32m      <a href='vscode-notebook-cell:/d%3A/data_structures_algos/data_structures_algos/linked_list.ipynb#W2sZmlsZQ%3D%3D?line=8'>9</a>\u001b[0m \u001b[39m# my_linked_list = LinkedList(1)\u001b[39;00m\n\u001b[0;32m     <a href='vscode-notebook-cell:/d%3A/data_structures_algos/data_structures_algos/linked_list.ipynb#W2sZmlsZQ%3D%3D?line=9'>10</a>\u001b[0m \n\u001b[0;32m     <a href='vscode-notebook-cell:/d%3A/data_structures_algos/data_structures_algos/linked_list.ipynb#W2sZmlsZQ%3D%3D?line=10'>11</a>\u001b[0m \u001b[39m# my_linked_list.append(2)\u001b[39;00m\n\u001b[0;32m     <a href='vscode-notebook-cell:/d%3A/data_structures_algos/data_structures_algos/linked_list.ipynb#W2sZmlsZQ%3D%3D?line=12'>13</a>\u001b[0m my_linked_list\u001b[39m.\u001b[39mprint_list()\n\u001b[1;32m---> <a href='vscode-notebook-cell:/d%3A/data_structures_algos/data_structures_algos/linked_list.ipynb#W2sZmlsZQ%3D%3D?line=14'>15</a>\u001b[0m my_linked_list\u001b[39m.\u001b[39;49mpop(\u001b[39m1\u001b[39;49m)\n",
      "\u001b[1;32md:\\data_structures_algos\\data_structures_algos\\linked_list.ipynb Cell 2\u001b[0m line \u001b[0;36m5\n\u001b[0;32m     <a href='vscode-notebook-cell:/d%3A/data_structures_algos/data_structures_algos/linked_list.ipynb#W2sZmlsZQ%3D%3D?line=49'>50</a>\u001b[0m \u001b[39melif\u001b[39;00m \u001b[39mself\u001b[39m\u001b[39m.\u001b[39mhead \u001b[39m==\u001b[39m \u001b[39mself\u001b[39m\u001b[39m.\u001b[39mtail:\n\u001b[0;32m     <a href='vscode-notebook-cell:/d%3A/data_structures_algos/data_structures_algos/linked_list.ipynb#W2sZmlsZQ%3D%3D?line=50'>51</a>\u001b[0m     pop_value \u001b[39m=\u001b[39m value\n\u001b[1;32m---> <a href='vscode-notebook-cell:/d%3A/data_structures_algos/data_structures_algos/linked_list.ipynb#W2sZmlsZQ%3D%3D?line=51'>52</a>\u001b[0m     \u001b[39mself\u001b[39;49m\u001b[39m.\u001b[39;49mremove(value)\n\u001b[0;32m     <a href='vscode-notebook-cell:/d%3A/data_structures_algos/data_structures_algos/linked_list.ipynb#W2sZmlsZQ%3D%3D?line=52'>53</a>\u001b[0m     \u001b[39mreturn\u001b[39;00m pop_value\n\u001b[0;32m     <a href='vscode-notebook-cell:/d%3A/data_structures_algos/data_structures_algos/linked_list.ipynb#W2sZmlsZQ%3D%3D?line=53'>54</a>\u001b[0m \u001b[39melse\u001b[39;00m:\n",
      "\u001b[1;31mAttributeError\u001b[0m: 'LinkedList' object has no attribute 'remove'"
     ]
    }
   ],
   "source": [
    "# my_linked_list = LinkedList(4)\n",
    "\n",
    "# print('Head:', my_linked_list.head.value)\n",
    "# print('Tail:', my_linked_list.tail.value)\n",
    "# print('Length:', my_linked_list.length)\n",
    "\n",
    "my_linked_list = LinkedList(1)\n",
    "\n",
    "# my_linked_list = LinkedList(1)\n",
    "\n",
    "# my_linked_list.append(2)\n",
    "\n",
    "my_linked_list.print_list()\n",
    "\n",
    "my_linked_list.pop(1)"
   ]
  },
  {
   "cell_type": "code",
   "execution_count": 7,
   "metadata": {},
   "outputs": [
    {
     "name": "stdout",
     "output_type": "stream",
     "text": [
      "[2, 3]\n"
     ]
    }
   ],
   "source": [
    "my_list = [1,2,3]\n",
    "my_list.remove(1)\n",
    "print(my_list)"
   ]
  },
  {
   "cell_type": "code",
   "execution_count": null,
   "metadata": {},
   "outputs": [],
   "source": []
  }
 ],
 "metadata": {
  "kernelspec": {
   "display_name": "base",
   "language": "python",
   "name": "python3"
  },
  "language_info": {
   "codemirror_mode": {
    "name": "ipython",
    "version": 3
   },
   "file_extension": ".py",
   "mimetype": "text/x-python",
   "name": "python",
   "nbconvert_exporter": "python",
   "pygments_lexer": "ipython3",
   "version": "3.10.9"
  }
 },
 "nbformat": 4,
 "nbformat_minor": 2
}
